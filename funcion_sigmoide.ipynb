{
  "nbformat": 4,
  "nbformat_minor": 0,
  "metadata": {
    "colab": {
      "name": "funcion-sigmoide.ipynb",
      "provenance": [],
      "collapsed_sections": []
    },
    "kernelspec": {
      "name": "python3",
      "display_name": "Python 3"
    }
  },
  "cells": [
    {
      "cell_type": "code",
      "metadata": {
        "id": "r-LDCaW48LBz",
        "colab_type": "code",
        "colab": {}
      },
      "source": [
        "import matplotlib.pyplot as plt\n",
        "import numpy as np"
      ],
      "execution_count": 1,
      "outputs": []
    },
    {
      "cell_type": "code",
      "metadata": {
        "id": "w__kJWNk8K_W",
        "colab_type": "code",
        "colab": {}
      },
      "source": [
        "\"\"\" La función sigmoide toma valores de números reales como entrada y los \n",
        "    transforma en valores entre 0 y 1. Tiene intercepción 0.5, sigmoid(0) = 0.5\n",
        "\"\"\"\n",
        "def sigmoid(z):\n",
        "    return 1.0 / (1.0 + np.exp(-z))"
      ],
      "execution_count": 8,
      "outputs": []
    },
    {
      "cell_type": "code",
      "metadata": {
        "id": "HXmg467k8K8t",
        "colab_type": "code",
        "colab": {
          "base_uri": "https://localhost:8080/",
          "height": 297
        },
        "outputId": "aadb134c-f7d5-49e1-f4c3-5e1a4dd792e5"
      },
      "source": [
        "# z => Es la entrada de la red, es decir la combinacion lineal de pesos (W) y caracteristicas (X)\n",
        "z = np.arange(-10, 10, 0.1)\n",
        "phi_z = sigmoid(z)\n",
        "\n",
        "plt.plot(z, phi_z)\n",
        "plt.axvline(0.0, color='k')\n",
        "plt.ylim(-0.2, 1.2)\n",
        "plt.xlabel('z')\n",
        "plt.ylabel('$\\phi (z)$')\n",
        "\n",
        "plt.yticks([0.0, 0.5, 1.0])\n",
        "ax = plt.gca()\n",
        "ax.yaxis.grid(True)\n",
        "\n",
        "plt.tight_layout()\n",
        "plt.show()"
      ],
      "execution_count": 7,
      "outputs": [
        {
          "output_type": "display_data",
          "data": {
            "image/png": "[encoded data removed]",
            "text/plain": [
              "<Figure size 432x288 with 1 Axes>"
            ]
          },
          "metadata": {
            "tags": [],
            "needs_background": "light"
          }
        }
      ]
    }
  ]
}